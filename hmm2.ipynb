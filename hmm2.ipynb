{
 "cells": [
  {
   "cell_type": "code",
   "execution_count": 1,
   "metadata": {
    "collapsed": false,
    "deletable": true,
    "editable": true
   },
   "outputs": [],
   "source": [
    "# coding:utf-8\n",
    "from osmread import parse_file, Node,Way,Relation\n",
    "import json\n",
    "from pandas.io.json import json_normalize\n",
    "import pandas as pd\n",
    "import math\n",
    "import random\n",
    "from sklearn.metrics import euclidean_distances\n",
    "import numpy as np\n",
    "from HiddenMarkovModel import HiddenMarkovModel\n",
    "import random"
   ]
  },
  {
   "cell_type": "code",
   "execution_count": 2,
   "metadata": {
    "collapsed": false,
    "deletable": true,
    "editable": true
   },
   "outputs": [],
   "source": [
    "#序列化\n",
    "node_ls = []\n",
    "way_ls = []\n",
    "relation = []\n",
    "for entity in parse_file('map.osm'):\n",
    "    if isinstance(entity, Node):\n",
    "        node_ls.append(json.loads(json.dumps(entity.__dict__)))\n",
    "    if isinstance(entity,Way):\n",
    "        way_ls.append(json.loads(json.dumps(entity.__dict__)))\n",
    "    if isinstance(entity,Relation):\n",
    "        relation.append(entity.__dict__)"
   ]
  },
  {
   "cell_type": "code",
   "execution_count": 3,
   "metadata": {
    "collapsed": false,
    "deletable": true,
    "editable": true
   },
   "outputs": [],
   "source": [
    "#取出node特征\n",
    "node = json_normalize(node_ls)[['id','lat','lon','timestamp','uid']]\n",
    "node.index = node['id']\n",
    "del node['id']"
   ]
  },
  {
   "cell_type": "code",
   "execution_count": 4,
   "metadata": {
    "collapsed": false,
    "deletable": true,
    "editable": true
   },
   "outputs": [],
   "source": [
    "#取出way特征\n",
    "way = json_normalize(way_ls)[['id','nodes','timestamp','uid']]\n",
    "way.index = way['id']\n",
    "del way['id']"
   ]
  },
  {
   "cell_type": "code",
   "execution_count": 5,
   "metadata": {
    "collapsed": false,
    "deletable": true,
    "editable": true
   },
   "outputs": [],
   "source": [
    "#计算road segment 矩阵\n",
    "def location(row):\n",
    "    ls = row['nodes']\n",
    "    return [node.loc[ls,['lat','lon']].values]\n",
    "way['traj_long_la'] = way.apply(location,axis = 1)"
   ]
  },
  {
   "cell_type": "code",
   "execution_count": 7,
   "metadata": {
    "collapsed": false,
    "deletable": true,
    "editable": true
   },
   "outputs": [],
   "source": [
    "#读入某条轨迹数据\n",
    "traj_0 = pd.read_csv('chazhiyihou.csv',index_col='Unnamed: 0')"
   ]
  },
  {
   "cell_type": "code",
   "execution_count": 8,
   "metadata": {
    "collapsed": false,
    "deletable": true,
    "editable": true
   },
   "outputs": [],
   "source": [
    "#轨迹 HM 和 HT\n",
    "HM = [random.randint(0, 1) for i in range(0,len(traj_0))]\n",
    "HT = [random.randint(0, 1) for i in range(0,len(traj_0))]\n",
    "traj_0['HM'] = HM\n",
    "traj_0['HT'] = HT"
   ]
  },
  {
   "cell_type": "code",
   "execution_count": 9,
   "metadata": {
    "collapsed": true,
    "deletable": true,
    "editable": true
   },
   "outputs": [],
   "source": [
    "#道路 HM 和 HT\n",
    "wayHM = [random.randint(0, 1) for i in range(0,len(way))]\n",
    "wayHT = [random.randint(0, 1) for i in range(0,len(way))]\n",
    "way['HM'] = wayHM\n",
    "way['HT'] = wayHT"
   ]
  },
  {
   "cell_type": "code",
   "execution_count": 10,
   "metadata": {
    "collapsed": false,
    "deletable": true,
    "editable": true
   },
   "outputs": [],
   "source": [
    "#简单拆分\n",
    "traj_0_new = traj_0[['Grid_center_y','Grid_center_x','HM','HT']].dropna()\n",
    "traj_0_location = traj_0_new[['Grid_center_y','Grid_center_x']]\n",
    "traj_0_hh = traj_0_new[['HM','HT']]"
   ]
  },
  {
   "cell_type": "code",
   "execution_count": 14,
   "metadata": {
    "collapsed": false,
    "deletable": true,
    "editable": true
   },
   "outputs": [],
   "source": [
    "#计算每个点到road segment的距离\n",
    "#尝试两种距离计算方法，一种是VTrack论文中的，另一种是CTrack论文中\n",
    "def closest_distance(row):\n",
    "    traj_long_la = row['traj_long_la'][0]\n",
    "    traj_mat = traj_0_location.values\n",
    "    ls = []\n",
    "    for i in traj_mat:\n",
    "        Max = -1\n",
    "        for j in traj_long_la:\n",
    "            Max = max(haversine(i[1],i[0],j[1],j[0]),Max)\n",
    "        ls.append(Max)\n",
    "    variance = np.std(np.array(ls))\n",
    "    gaussian_dist = np.random.normal(0, variance, len(ls))\n",
    "    return pd.Series(gaussian_dist)\n",
    "\n",
    "def closest_distance_nicai_version(row):\n",
    "    traj_long_la = row['traj_long_la'][0]\n",
    "    traj_mat = traj_0_location.values\n",
    "    ls = []\n",
    "    for i in traj_mat:\n",
    "        Max = -1\n",
    "        for j in traj_long_la:\n",
    "            Max = max(haversine(i[1],i[0],j[1],j[0]),Max)\n",
    "        ls.append(Max)\n",
    "    dist = 1/np.array(ls)\n",
    "    gaussian_dist = np.power(np.e,-dist**2)\n",
    "    return pd.Series(gaussian_dist)\n",
    "#得到emission矩阵\n",
    "dis_min_df = way.apply(closest_distance,axis=1)\n",
    "emission_matrix = dis_min_df.T\n",
    "emission_matrix = ((emission_matrix - emission_matrix.min()) / (emission_matrix.max() - emission_matrix.min())).dropna(axis = 1)"
   ]
  },
  {
   "cell_type": "code",
   "execution_count": 16,
   "metadata": {
    "collapsed": false,
    "deletable": true,
    "editable": true
   },
   "outputs": [],
   "source": [
    "way_mat = way[\"nodes\"]"
   ]
  },
  {
   "cell_type": "code",
   "execution_count": 27,
   "metadata": {
    "collapsed": false,
    "deletable": true,
    "editable": true
   },
   "outputs": [],
   "source": [
    "#计算路网，当首尾相连或中间相连，即是路段相连\n",
    "dic = {}\n",
    "dic_concat = {}\n",
    "for i in way_mat.index:\n",
    "    tmp_ls = []\n",
    "    concat = []\n",
    "    arr = way_mat.loc[i]\n",
    "    end_point = arr[-1]\n",
    "    for j in way_mat.index:\n",
    "        arr1 = way_mat.loc[j]\n",
    "        if end_point in arr1:\n",
    "            concat.append(j)\n",
    "            if arr1.index(end_point) == 0:\n",
    "                tmp_ls.append(j)\n",
    "    dic[i] = tmp_ls\n",
    "    dic_concat[i] = concat"
   ]
  },
  {
   "cell_type": "code",
   "execution_count": 42,
   "metadata": {
    "collapsed": false,
    "deletable": true,
    "editable": true
   },
   "outputs": [],
   "source": [
    "#计算状态转移矩阵\n",
    "trans = pd.DataFrame(0,index = way.index,columns= way.index)\n",
    "for key in dic_concat:\n",
    "    #e = 1.0/(len(dic_concat[key])+1)\n",
    "    trans.loc[key, dic_concat[key]] = 1\n",
    "    #trans.loc[key, dic_concat[key]] = e\n",
    "   #trans.loc[dic[key],key] = e\n",
    "    trans.loc[key, key] = 1"
   ]
  },
  {
   "cell_type": "code",
   "execution_count": 44,
   "metadata": {
    "collapsed": false,
    "deletable": true,
    "editable": true
   },
   "outputs": [],
   "source": [
    "# 取得输入emission矩阵和transition矩阵\n",
    "emi_mat = emission_matrix.values\n",
    "tran_mat = trans.values\n",
    "#取得初始概率\n",
    "allNumber = len(tran_mat)\n",
    "p0 = [1.0/allNumber for i in range(allNumber)]"
   ]
  },
  {
   "cell_type": "code",
   "execution_count": 45,
   "metadata": {
    "collapsed": true,
    "deletable": true,
    "editable": true
   },
   "outputs": [],
   "source": [
    "model = HiddenMarkovModel(tran_mat,emi_mat,p0)"
   ]
  },
  {
   "cell_type": "code",
   "execution_count": 46,
   "metadata": {
    "collapsed": false,
    "deletable": true,
    "editable": true,
    "scrolled": true
   },
   "outputs": [
    {
     "name": "stdout",
     "output_type": "stream",
     "text": [
      "WARNING:tensorflow:From HiddenMarkovModel.py:123 in run_viterbi.: initialize_all_variables (from tensorflow.python.ops.variables) is deprecated and will be removed after 2017-03-02.\n",
      "Instructions for updating:\n",
      "Use `tf.global_variables_initializer` instead.\n",
      "WARNING:tensorflow:From HiddenMarkovModel.py:128 in run_viterbi.: __init__ (from tensorflow.python.training.summary_io) is deprecated and will be removed after 2016-11-30.\n",
      "Instructions for updating:\n",
      "Please switch to tf.summary.FileWriter. The interface and behavior is the same; this is just a rename.\n"
     ]
    }
   ],
   "source": [
    "states_seq, state_probs = model.run_viterbi([i for i in range(len(emi_mat))],summary=True)"
   ]
  },
  {
   "cell_type": "code",
   "execution_count": 47,
   "metadata": {
    "collapsed": false,
    "deletable": true,
    "editable": true
   },
   "outputs": [
    {
     "data": {
      "text/plain": [
       "array([ 2,  2, 82, ..., 19, 15, 19])"
      ]
     },
     "execution_count": 47,
     "metadata": {},
     "output_type": "execute_result"
    }
   ],
   "source": [
    "states_seq"
   ]
  },
  {
   "cell_type": "code",
   "execution_count": null,
   "metadata": {
    "collapsed": true,
    "deletable": true,
    "editable": true
   },
   "outputs": [],
   "source": [
    "main = states_seq[0]\n",
    "ls = [main]\n",
    "for i in range(len(states_seq)):\n",
    "    if main == states_seq[i]:\n",
    "        continue\n",
    "    else:\n",
    "        ls.append(states_seq[i])\n",
    "        main = states_seq[i]"
   ]
  },
  {
   "cell_type": "code",
   "execution_count": 49,
   "metadata": {
    "collapsed": false,
    "deletable": true,
    "editable": true
   },
   "outputs": [],
   "source": [
    "wayid = emission_matrix.columns[ls]\n",
    "road_segment = way.loc[wayid]"
   ]
  },
  {
   "cell_type": "code",
   "execution_count": 50,
   "metadata": {
    "collapsed": false,
    "deletable": true,
    "editable": true,
    "scrolled": true
   },
   "outputs": [],
   "source": [
    "haha = []\n",
    "for i in road_segment['traj_long_la']:\n",
    "    haha.append(i[0].tolist())"
   ]
  },
  {
   "cell_type": "code",
   "execution_count": 13,
   "metadata": {
    "collapsed": true,
    "deletable": true,
    "editable": true
   },
   "outputs": [],
   "source": [
    "from math import radians, cos, sin, asin, sqrt  \n",
    "      \n",
    "def haversine(lon1, lat1, lon2, lat2): # 经度1，纬度1，经度2，纬度2 （十进制度数）  \n",
    "    \"\"\" \n",
    "    Calculate the great circle distance between two points  \n",
    "    on the earth (specified in decimal degrees) \n",
    "    \"\"\"  \n",
    "    # 将十进制度数转化为弧度  \n",
    "    lon1, lat1, lon2, lat2 = map(radians, [lon1, lat1, lon2, lat2])  \n",
    "      \n",
    "    # haversine公式  \n",
    "    dlon = lon2 - lon1   \n",
    "    dlat = lat2 - lat1   \n",
    "    a = sin(dlat/2)**2 + cos(lat1) * cos(lat2) * sin(dlon/2)**2  \n",
    "    c = 2 * asin(sqrt(a))   \n",
    "    r = 6371 # 地球平均半径，单位为公里  \n",
    "    return c * r * 1000"
   ]
  }
 ],
 "metadata": {
  "kernelspec": {
   "display_name": "Python 2",
   "language": "python",
   "name": "python2"
  },
  "language_info": {
   "codemirror_mode": {
    "name": "ipython",
    "version": 2
   },
   "file_extension": ".py",
   "mimetype": "text/x-python",
   "name": "python",
   "nbconvert_exporter": "python",
   "pygments_lexer": "ipython2",
   "version": "2.7.12"
  }
 },
 "nbformat": 4,
 "nbformat_minor": 2
}
