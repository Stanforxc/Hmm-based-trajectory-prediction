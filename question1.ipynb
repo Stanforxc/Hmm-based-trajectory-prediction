{
 "cells": [
  {
   "cell_type": "code",
   "execution_count": 1,
   "metadata": {
    "collapsed": true,
    "deletable": true,
    "editable": true
   },
   "outputs": [],
   "source": [
    " #-*- coding=utf-8 -*-\n",
    "import pandas as pd\n",
    "from numpy import nan\n",
    "from sklearn.model_selection import cross_val_score\n",
    "from sklearn.metrics.pairwise import euclidean_distances"
   ]
  },
  {
   "cell_type": "code",
   "execution_count": 2,
   "metadata": {
    "collapsed": true,
    "deletable": true,
    "editable": true
   },
   "outputs": [],
   "source": [
    "#读取数据\n",
    "final_2g_tr = pd.read_csv('final_2g_tr.csv',encoding=\"gbk\")\n",
    "final_2g_tr = final_2g_tr.dropna()\n",
    "final_2g_gongcan = pd.read_csv('final_2g_gongcan.csv',encoding=\"gbk\")"
   ]
  },
  {
   "cell_type": "code",
   "execution_count": 3,
   "metadata": {
    "collapsed": false,
    "deletable": true,
    "editable": true
   },
   "outputs": [],
   "source": [
    "#读取数据\n",
    "final_2g_te = pd.read_csv('final_2g_te.csv',encoding=\"gbk\")\n",
    "final_2g_te = final_2g_te.dropna()"
   ]
  },
  {
   "cell_type": "code",
   "execution_count": 4,
   "metadata": {
    "collapsed": false,
    "deletable": true,
    "editable": true
   },
   "outputs": [],
   "source": [
    "for i in range(1,7):\n",
    "    final_2g_tr['STRENGTH_'+str(i)] = final_2g_tr['RSCP_'+str(i)] - final_2g_tr['EcNo_'+str(i)]\n",
    "    final_2g_te['STRENGTH_'+str(i)] = final_2g_te['RSCP_'+str(i)] - final_2g_te['EcNo_'+str(i)]"
   ]
  },
  {
   "cell_type": "code",
   "execution_count": 5,
   "metadata": {
    "collapsed": false,
    "deletable": true,
    "editable": true
   },
   "outputs": [],
   "source": [
    "final_2g_tr['relativeLatitude'] = -1\n",
    "final_2g_tr['relativeLongitude'] = -1\n",
    "final_2g_te['relativeLatitude'] = -1\n",
    "final_2g_te['relativeLongitude'] = -1"
   ]
  },
  {
   "cell_type": "code",
   "execution_count": 6,
   "metadata": {
    "collapsed": false,
    "deletable": true,
    "editable": true
   },
   "outputs": [],
   "source": [
    "group_final_2g_te = final_2g_tr.groupby(['SRNCID','BestCellID'])\n",
    "groups_final_2g_te = group_final_2g_te.groups\n",
    "\n",
    "group_final_2g_gongcan = final_2g_gongcan.groupby(['LAC','CI'])\n",
    "groups_final_2g_gongcan = group_final_2g_gongcan.groups\n",
    "\n",
    "group_final_2g_tr = final_2g_tr.groupby(['SRNCID','BestCellID'])\n",
    "groups_final_2g_tr = group_final_2g_tr.groups"
   ]
  },
  {
   "cell_type": "code",
   "execution_count": 8,
   "metadata": {
    "collapsed": true,
    "deletable": true,
    "editable": true
   },
   "outputs": [],
   "source": [
    "from sklearn.ensemble import RandomForestRegressor"
   ]
  },
  {
   "cell_type": "code",
   "execution_count": null,
   "metadata": {
    "collapsed": true
   },
   "outputs": [],
   "source": [
    "# training\n",
    "# 第一问第一题，做出所有随机森林estimation模型\n",
    "estimators = {}\n",
    "for key,group in group_final_2g_tr:\n",
    "    index = groups_final_2g_gongcan[key][0]\n",
    "    tmpLatitude = final_2g_gongcan[u\"纬度\"][index]\n",
    "    tmpLongitude = final_2g_gongcan[u\"经度\"][index]\n",
    "    group.dropna()\n",
    "    group['relativeLongitude'] = group['Longitude'] - tmpLongitude\n",
    "    group['relativeLatitude'] = group['Latitude'] - tmpLatitude\n",
    "    y_train = group[['relativeLatitude','relativeLongitude']]\n",
    "    X_train = group[['BestCellID', 'SRNCID', 'RNCID_1', 'RNCID_2', 'RNCID_3', 'RNCID_4', 'RNCID_5', 'RNCID_6', 'RSCP_1', 'RSCP_2',\n",
    "           'RSCP_3', 'RSCP_4', 'RSCP_5', 'RSCP_6', 'EcNo_1', 'EcNo_2', 'EcNo_3', 'EcNo_4', 'EcNo_5', 'EcNo_6',\n",
    "           'STRENGTH_1', 'STRENGTH_2', 'STRENGTH_3', 'STRENGTH_4', 'STRENGTH_5', 'STRENGTH_6']]\n",
    "    estimator = RandomForestRegressor(random_state=0, n_estimators=100)\n",
    "    estimator.fit(X_train, y_train)\n",
    "    estimators[key] = estimator"
   ]
  },
  {
   "cell_type": "code",
   "execution_count": null,
   "metadata": {
    "collapsed": true
   },
   "outputs": [],
   "source": [
    "# test\n",
    "# 第一问第二题，计算回归定位算法\n",
    "added_group = {}\n",
    "for key,group in group_final_2g_tr:\n",
    "    index = groups_final_2g_gongcan[key][0]\n",
    "    tmpLatitude = final_2g_gongcan[u\"纬度\"][index]\n",
    "    tmpLongitude = final_2g_gongcan[u\"经度\"][index]\n",
    "    group.dropna()\n",
    "    group['relativeLongitude'] = group['Longitude'] - tmpLongitude\n",
    "    group['relativeLatitude'] = group['Latitude'] - tmpLatitude\n",
    "    estimator = estimators[key]\n",
    "    y_test = group[['relativeLatitude','relativeLongitude']]\n",
    "    X_test = group[['BestCellID', 'SRNCID', 'RNCID_1', 'RNCID_2', 'RNCID_3', 'RNCID_4', 'RNCID_5', 'RNCID_6', 'RSCP_1', 'RSCP_2',\n",
    "           'RSCP_3', 'RSCP_4', 'RSCP_5', 'RSCP_6', 'EcNo_1', 'EcNo_2', 'EcNo_3', 'EcNo_4', 'EcNo_5', 'EcNo_6',\n",
    "           'STRENGTH_1', 'STRENGTH_2', 'STRENGTH_3', 'STRENGTH_4', 'STRENGTH_5', 'STRENGTH_6']]\n",
    "    \n",
    "    y_predict = estimator.predict(X_test)\n",
    "    s = pd.DataFrame(y_predict, index=group.index,columns=['restoreLatitude','restoreLongitude'])\n",
    "    s['restoreLatitude'] += tmpLatitude\n",
    "    s['restoreLongitude'] += tmpLongitude\n",
    "    group = pd.concat([group, s], axis=1)\n",
    "    group['deltaDist'] = -1\n",
    "    group['deltaDist'] = euclidean_distances(group[['Latitude','Longitude']],group[['restoreLatitude','restoreLongitude']])\n",
    "    added_group[key] = group\n",
    "    "
   ]
  },
  {
   "cell_type": "code",
   "execution_count": 11,
   "metadata": {
    "collapsed": false,
    "deletable": true,
    "editable": true
   },
   "outputs": [],
   "source": [
    "#第一问第三题，模型迁移，交叉验证\n",
    "cross_group_estimation = {}\n",
    "\n",
    "for K in added_group:\n",
    "    group = added_group[K]\n",
    "    y_test = group[['relativeLatitude','relativeLongitude']]\n",
    "    X_test = group[['BestCellID', 'SRNCID', 'RNCID_1', 'RNCID_2', 'RNCID_3', 'RNCID_4', 'RNCID_5', 'RNCID_6', 'RSCP_1', 'RSCP_2',\n",
    "                    'RSCP_3', 'RSCP_4', 'RSCP_5', 'RSCP_6', 'EcNo_1', 'EcNo_2', 'EcNo_3', 'EcNo_4', 'EcNo_5', 'EcNo_6',\n",
    "                    'STRENGTH_1', 'STRENGTH_2', 'STRENGTH_3', 'STRENGTH_4', 'STRENGTH_5', 'STRENGTH_6']]\n",
    "    values = {}\n",
    "    for key in estimators:\n",
    "        if K != key:\n",
    "            esti = estimators[key]\n",
    "    \n",
    "            y_predict = esti.predict(X_test)\n",
    "        \n",
    "            estimator_label = str(key)\n",
    "            \n",
    "            s = pd.DataFrame(y_predict, index=group.index,columns=['restoreLatitude' + estimator_label,'restoreLongitude' + estimator_label])\n",
    "            s['restoreLatitude' + estimator_label] += tmpLatitude\n",
    "            s['restoreLongitude' + estimator_label] += tmpLongitude\n",
    "            group = pd.concat([group, s], axis=1)\n",
    "            \n",
    "            group['deltaDist' + estimator_label] = -1\n",
    "            group['deltaDist' + estimator_label] = euclidean_distances(group[['Latitude','Longitude']],group[['restoreLatitude' + estimator_label,'restoreLongitude' + estimator_label]])\n",
    "            \n",
    "    values[key] = group\n",
    "    cross_group_estimation[K] = values           "
   ]
  },
  {
   "cell_type": "code",
   "execution_count": 2,
   "metadata": {
    "collapsed": true,
    "deletable": true,
    "editable": true
   },
   "outputs": [],
   "source": [
    "# author : 夏陈， 洪嘉勇\n",
    "# 有问题欢迎提问， 邮箱: stanforxc@gmail.com"
   ]
  }
 ],
 "metadata": {
  "kernelspec": {
   "display_name": "Python 2",
   "language": "python",
   "name": "python2"
  },
  "language_info": {
   "codemirror_mode": {
    "name": "ipython",
    "version": 2
   },
   "file_extension": ".py",
   "mimetype": "text/x-python",
   "name": "python",
   "nbconvert_exporter": "python",
   "pygments_lexer": "ipython2",
   "version": "2.7.12"
  }
 },
 "nbformat": 4,
 "nbformat_minor": 2
}
